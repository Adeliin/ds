{
 "cells": [
  {
   "cell_type": "markdown",
   "id": "2e9a74d7",
   "metadata": {},
   "source": [
    "# Параметрические критерии"
   ]
  },
  {
   "cell_type": "markdown",
   "id": "d25cda6f",
   "metadata": {},
   "source": [
    "## Задание 1: z-test"
   ]
  },
  {
   "cell_type": "code",
   "execution_count": 1,
   "id": "907a91d5",
   "metadata": {},
   "outputs": [],
   "source": [
    "import pandas as pd\n",
    "import numpy as np\n",
    "df = pd.read_csv('C:/Users/AcerA3/datasets/Original_data_with_more_rows.csv')"
   ]
  },
  {
   "cell_type": "code",
   "execution_count": 2,
   "id": "068b79f7",
   "metadata": {},
   "outputs": [
    {
     "data": {
      "text/html": [
       "<div>\n",
       "<style scoped>\n",
       "    .dataframe tbody tr th:only-of-type {\n",
       "        vertical-align: middle;\n",
       "    }\n",
       "\n",
       "    .dataframe tbody tr th {\n",
       "        vertical-align: top;\n",
       "    }\n",
       "\n",
       "    .dataframe thead th {\n",
       "        text-align: right;\n",
       "    }\n",
       "</style>\n",
       "<table border=\"1\" class=\"dataframe\">\n",
       "  <thead>\n",
       "    <tr style=\"text-align: right;\">\n",
       "      <th></th>\n",
       "      <th>Unnamed: 0</th>\n",
       "      <th>Gender</th>\n",
       "      <th>EthnicGroup</th>\n",
       "      <th>ParentEduc</th>\n",
       "      <th>LunchType</th>\n",
       "      <th>TestPrep</th>\n",
       "      <th>MathScore</th>\n",
       "      <th>ReadingScore</th>\n",
       "      <th>WritingScore</th>\n",
       "    </tr>\n",
       "  </thead>\n",
       "  <tbody>\n",
       "    <tr>\n",
       "      <th>0</th>\n",
       "      <td>0</td>\n",
       "      <td>female</td>\n",
       "      <td>group B</td>\n",
       "      <td>bachelor's degree</td>\n",
       "      <td>standard</td>\n",
       "      <td>none</td>\n",
       "      <td>72</td>\n",
       "      <td>72</td>\n",
       "      <td>74</td>\n",
       "    </tr>\n",
       "    <tr>\n",
       "      <th>1</th>\n",
       "      <td>1</td>\n",
       "      <td>female</td>\n",
       "      <td>group C</td>\n",
       "      <td>some college</td>\n",
       "      <td>standard</td>\n",
       "      <td>completed</td>\n",
       "      <td>69</td>\n",
       "      <td>90</td>\n",
       "      <td>88</td>\n",
       "    </tr>\n",
       "    <tr>\n",
       "      <th>2</th>\n",
       "      <td>2</td>\n",
       "      <td>female</td>\n",
       "      <td>group B</td>\n",
       "      <td>master's degree</td>\n",
       "      <td>standard</td>\n",
       "      <td>none</td>\n",
       "      <td>90</td>\n",
       "      <td>95</td>\n",
       "      <td>93</td>\n",
       "    </tr>\n",
       "    <tr>\n",
       "      <th>3</th>\n",
       "      <td>3</td>\n",
       "      <td>male</td>\n",
       "      <td>group A</td>\n",
       "      <td>associate's degree</td>\n",
       "      <td>free/reduced</td>\n",
       "      <td>none</td>\n",
       "      <td>47</td>\n",
       "      <td>57</td>\n",
       "      <td>44</td>\n",
       "    </tr>\n",
       "    <tr>\n",
       "      <th>4</th>\n",
       "      <td>4</td>\n",
       "      <td>male</td>\n",
       "      <td>group C</td>\n",
       "      <td>some college</td>\n",
       "      <td>standard</td>\n",
       "      <td>none</td>\n",
       "      <td>76</td>\n",
       "      <td>78</td>\n",
       "      <td>75</td>\n",
       "    </tr>\n",
       "    <tr>\n",
       "      <th>...</th>\n",
       "      <td>...</td>\n",
       "      <td>...</td>\n",
       "      <td>...</td>\n",
       "      <td>...</td>\n",
       "      <td>...</td>\n",
       "      <td>...</td>\n",
       "      <td>...</td>\n",
       "      <td>...</td>\n",
       "      <td>...</td>\n",
       "    </tr>\n",
       "    <tr>\n",
       "      <th>30636</th>\n",
       "      <td>995</td>\n",
       "      <td>male</td>\n",
       "      <td>group C</td>\n",
       "      <td>some high school</td>\n",
       "      <td>standard</td>\n",
       "      <td>none</td>\n",
       "      <td>56</td>\n",
       "      <td>47</td>\n",
       "      <td>51</td>\n",
       "    </tr>\n",
       "    <tr>\n",
       "      <th>30637</th>\n",
       "      <td>996</td>\n",
       "      <td>male</td>\n",
       "      <td>group E</td>\n",
       "      <td>associate's degree</td>\n",
       "      <td>free/reduced</td>\n",
       "      <td>none</td>\n",
       "      <td>74</td>\n",
       "      <td>75</td>\n",
       "      <td>72</td>\n",
       "    </tr>\n",
       "    <tr>\n",
       "      <th>30638</th>\n",
       "      <td>997</td>\n",
       "      <td>male</td>\n",
       "      <td>group C</td>\n",
       "      <td>some college</td>\n",
       "      <td>standard</td>\n",
       "      <td>none</td>\n",
       "      <td>36</td>\n",
       "      <td>29</td>\n",
       "      <td>27</td>\n",
       "    </tr>\n",
       "    <tr>\n",
       "      <th>30639</th>\n",
       "      <td>998</td>\n",
       "      <td>male</td>\n",
       "      <td>group A</td>\n",
       "      <td>some high school</td>\n",
       "      <td>free/reduced</td>\n",
       "      <td>completed</td>\n",
       "      <td>43</td>\n",
       "      <td>34</td>\n",
       "      <td>39</td>\n",
       "    </tr>\n",
       "    <tr>\n",
       "      <th>30640</th>\n",
       "      <td>999</td>\n",
       "      <td>female</td>\n",
       "      <td>group D</td>\n",
       "      <td>associate's degree</td>\n",
       "      <td>standard</td>\n",
       "      <td>none</td>\n",
       "      <td>52</td>\n",
       "      <td>68</td>\n",
       "      <td>66</td>\n",
       "    </tr>\n",
       "  </tbody>\n",
       "</table>\n",
       "<p>30641 rows × 9 columns</p>\n",
       "</div>"
      ],
      "text/plain": [
       "       Unnamed: 0  Gender EthnicGroup          ParentEduc     LunchType  \\\n",
       "0               0  female     group B   bachelor's degree      standard   \n",
       "1               1  female     group C        some college      standard   \n",
       "2               2  female     group B     master's degree      standard   \n",
       "3               3    male     group A  associate's degree  free/reduced   \n",
       "4               4    male     group C        some college      standard   \n",
       "...           ...     ...         ...                 ...           ...   \n",
       "30636         995    male     group C    some high school      standard   \n",
       "30637         996    male     group E  associate's degree  free/reduced   \n",
       "30638         997    male     group C        some college      standard   \n",
       "30639         998    male     group A    some high school  free/reduced   \n",
       "30640         999  female     group D  associate's degree      standard   \n",
       "\n",
       "        TestPrep  MathScore  ReadingScore  WritingScore  \n",
       "0           none         72            72            74  \n",
       "1      completed         69            90            88  \n",
       "2           none         90            95            93  \n",
       "3           none         47            57            44  \n",
       "4           none         76            78            75  \n",
       "...          ...        ...           ...           ...  \n",
       "30636       none         56            47            51  \n",
       "30637       none         74            75            72  \n",
       "30638       none         36            29            27  \n",
       "30639  completed         43            34            39  \n",
       "30640       none         52            68            66  \n",
       "\n",
       "[30641 rows x 9 columns]"
      ]
     },
     "execution_count": 2,
     "metadata": {},
     "output_type": "execute_result"
    }
   ],
   "source": [
    "df"
   ]
  },
  {
   "cell_type": "markdown",
   "id": "6378f469",
   "metadata": {},
   "source": [
    "#### a) Посчитайте z-test для среднего значения теста по математике у девушек, родители которых закончили бакалавриат. Вес - 0.5"
   ]
  },
  {
   "cell_type": "code",
   "execution_count": 3,
   "id": "ad7bf8ac",
   "metadata": {},
   "outputs": [],
   "source": [
    "#1 формулирую гипотезу: среднее значение теста по математике у девушек, родители которых закончили бакалавриат = сренему значению по генеральной совокупности, которое составляет 67.5. Стандартное отклонение известно, и составляет 13\n",
    "# Hо:μ=67.5\n",
    "# Hа:μ!=67.5"
   ]
  },
  {
   "cell_type": "code",
   "execution_count": 4,
   "id": "fb2a3389",
   "metadata": {},
   "outputs": [
    {
     "name": "stdout",
     "output_type": "stream",
     "text": [
      "-1.9599639845400545 1.959963984540054\n"
     ]
    }
   ],
   "source": [
    "#2. Выбираю уровень значимости и нахожу критическое значение при α=5%\n",
    "from scipy.stats import norm\n",
    "from scipy import stats\n",
    "\n",
    "alpha = 0.05\n",
    "\n",
    "print(norm.ppf(alpha/2),norm.ppf(1-alpha/2))"
   ]
  },
  {
   "cell_type": "code",
   "execution_count": 5,
   "id": "db60527c",
   "metadata": {},
   "outputs": [
    {
     "name": "stdout",
     "output_type": "stream",
     "text": [
      "Z-statistics = 0.448\n"
     ]
    }
   ],
   "source": [
    "#3 Считаю тестовую статистику\n",
    "from statsmodels.stats.weightstats import ztest as ztest\n",
    "# Z-тест:\n",
    "#   выборка\n",
    "#   value - значение нулевой гипотезы\n",
    "#   alternative - тип альтернативной гипотезы\n",
    "\n",
    "result = ztest(df[(df['Gender']=='female') & (df['ParentEduc']==\"bachelor's degree\")]['MathScore'], value = 67.5, alternative = 'two-sided')\n",
    "\n",
    "print(f'Z-statistics = {round(result[0],3)}')"
   ]
  },
  {
   "cell_type": "code",
   "execution_count": 6,
   "id": "ad6d45f4",
   "metadata": {},
   "outputs": [
    {
     "data": {
      "text/plain": [
       "True"
      ]
     },
     "execution_count": 6,
     "metadata": {},
     "output_type": "execute_result"
    }
   ],
   "source": [
    "# нулевая гипотеза принимается, так как Z-статистика попадает в диапазон от [-Z_кр;Z_кр] \n",
    "norm.ppf(alpha/2)<=result[0]<=norm.ppf(1-alpha/2)\n",
    "\n",
    "# среднее значение теста по математике у девушек, родители которых закончили бакалавриат = сренему значению по генеральной совокупности"
   ]
  },
  {
   "cell_type": "markdown",
   "id": "1f1903ad",
   "metadata": {},
   "source": [
    "#### b) Посчитайте p-value для полученного значения z-теста. Значимая ли разница у приведенного выборки и генеральной совокупности? Вес - 0.5"
   ]
  },
  {
   "cell_type": "code",
   "execution_count": 7,
   "id": "11cb4f81",
   "metadata": {},
   "outputs": [
    {
     "name": "stdout",
     "output_type": "stream",
     "text": [
      "p-value = 0.6544739524290177\n"
     ]
    }
   ],
   "source": [
    " print(f'p-value = {result[1]}')"
   ]
  },
  {
   "cell_type": "code",
   "execution_count": 8,
   "id": "0330d98c",
   "metadata": {},
   "outputs": [
    {
     "data": {
      "text/plain": [
       "True"
      ]
     },
     "execution_count": 8,
     "metadata": {},
     "output_type": "execute_result"
    }
   ],
   "source": [
    "# p-value равен 0.65 при уровне значимости 0.05. Это означает, что различия между выборкой и генеральной совокупностью не являются значимыми. То есть, можно предположить, что выборочные значения в пределах ошибки могут быть равны генеральным значениям.\n",
    "result[1]>0.05"
   ]
  },
  {
   "cell_type": "markdown",
   "id": "e05571b9",
   "metadata": {},
   "source": [
    "## Задание 2: одновыборочный t-test"
   ]
  },
  {
   "cell_type": "markdown",
   "id": "667a5450",
   "metadata": {},
   "source": [
    "#### 2a) Посчитайте t-test для среднего значения теста по чтению, которые прошли подготовку к тесту. Вес - 0.5"
   ]
  },
  {
   "cell_type": "code",
   "execution_count": 9,
   "id": "df888302",
   "metadata": {},
   "outputs": [
    {
     "data": {
      "text/plain": [
       "Ttest_1sampResult(statistic=28.862005279791358, pvalue=1.1026838828639981e-176)"
      ]
     },
     "execution_count": 9,
     "metadata": {},
     "output_type": "execute_result"
    }
   ],
   "source": [
    "# Мы знаем, что среднее значение для генеральной совокупности - 70. Но в этот раз мы не знаем стандартного отклонения - поэтому используем t-test\n",
    "# Нулевая гипотеза: среднее значение теста по чтению, для студентов которые прошли подготовку к тесту равно или меньше среднего значения по тесту для генеральной совокупности\n",
    "# Hо:μ<=70\n",
    "# Hа:μ>70\n",
    "\n",
    "result = stats.ttest_1samp(a=df[df['TestPrep']=='completed']['ReadingScore'], popmean=70, alternative='greater')\n",
    "result"
   ]
  },
  {
   "cell_type": "code",
   "execution_count": 10,
   "id": "b75f1a44",
   "metadata": {},
   "outputs": [
    {
     "data": {
      "text/plain": [
       "False"
      ]
     },
     "execution_count": 10,
     "metadata": {},
     "output_type": "execute_result"
    }
   ],
   "source": [
    "# проверим, входит ли t-статистика в диапазон от [-Z_кр;Z_кр] \n",
    "norm.ppf(alpha/2)<=result[0]<=norm.ppf(1-alpha/2)\n",
    "\n",
    "# Нет, не входит, значит отвергаем нулевую гипотезу"
   ]
  },
  {
   "cell_type": "markdown",
   "id": "55cf1e49",
   "metadata": {},
   "source": [
    "#### 2b) Посчитайте p-value для получившегося значения и ответьте на вопрос - \"Улучшает ли подгтовка к тесту его результат?\". Вес - 0.5"
   ]
  },
  {
   "cell_type": "code",
   "execution_count": 11,
   "id": "73fa49db",
   "metadata": {},
   "outputs": [
    {
     "data": {
      "text/plain": [
       "False"
      ]
     },
     "execution_count": 11,
     "metadata": {},
     "output_type": "execute_result"
    }
   ],
   "source": [
    "result[1]>0.05"
   ]
  },
  {
   "cell_type": "code",
   "execution_count": 12,
   "id": "3d4ff39c",
   "metadata": {},
   "outputs": [],
   "source": [
    "# P-value ниже 0.05, что свидетельствует о том, что мы отвергаем нулевую гипотезу в пользу альтернативной, которая говорит о том, что среднее значение теста по чтению, для студентов которые прошли подготовку к тесту больше среднего значения по тесту для генеральной совокупности\n",
    "# Следовательно, подготовка к тесту улучшает его результат"
   ]
  },
  {
   "cell_type": "markdown",
   "id": "a7b422c9",
   "metadata": {},
   "source": [
    "## Задание 3: парный t-test"
   ]
  },
  {
   "cell_type": "code",
   "execution_count": 13,
   "id": "ef7ad8d2",
   "metadata": {},
   "outputs": [],
   "source": [
    "import pandas as pd\n",
    "import numpy as np\n",
    "df = pd.read_csv('C:/Users/AcerA3/datasets/Islander_data.csv')"
   ]
  },
  {
   "cell_type": "code",
   "execution_count": 14,
   "id": "063ac6ed",
   "metadata": {},
   "outputs": [
    {
     "data": {
      "text/html": [
       "<div>\n",
       "<style scoped>\n",
       "    .dataframe tbody tr th:only-of-type {\n",
       "        vertical-align: middle;\n",
       "    }\n",
       "\n",
       "    .dataframe tbody tr th {\n",
       "        vertical-align: top;\n",
       "    }\n",
       "\n",
       "    .dataframe thead th {\n",
       "        text-align: right;\n",
       "    }\n",
       "</style>\n",
       "<table border=\"1\" class=\"dataframe\">\n",
       "  <thead>\n",
       "    <tr style=\"text-align: right;\">\n",
       "      <th></th>\n",
       "      <th>first_name</th>\n",
       "      <th>last_name</th>\n",
       "      <th>age</th>\n",
       "      <th>Happy_Sad_group</th>\n",
       "      <th>Dosage</th>\n",
       "      <th>Drug</th>\n",
       "      <th>Mem_Score_Before</th>\n",
       "      <th>Mem_Score_After</th>\n",
       "      <th>Diff</th>\n",
       "    </tr>\n",
       "  </thead>\n",
       "  <tbody>\n",
       "    <tr>\n",
       "      <th>0</th>\n",
       "      <td>Bastian</td>\n",
       "      <td>Carrasco</td>\n",
       "      <td>25</td>\n",
       "      <td>H</td>\n",
       "      <td>1</td>\n",
       "      <td>A</td>\n",
       "      <td>63.5</td>\n",
       "      <td>61.2</td>\n",
       "      <td>-2.3</td>\n",
       "    </tr>\n",
       "    <tr>\n",
       "      <th>1</th>\n",
       "      <td>Evan</td>\n",
       "      <td>Carrasco</td>\n",
       "      <td>52</td>\n",
       "      <td>S</td>\n",
       "      <td>1</td>\n",
       "      <td>A</td>\n",
       "      <td>41.6</td>\n",
       "      <td>40.7</td>\n",
       "      <td>-0.9</td>\n",
       "    </tr>\n",
       "    <tr>\n",
       "      <th>2</th>\n",
       "      <td>Florencia</td>\n",
       "      <td>Carrasco</td>\n",
       "      <td>29</td>\n",
       "      <td>H</td>\n",
       "      <td>1</td>\n",
       "      <td>A</td>\n",
       "      <td>59.7</td>\n",
       "      <td>55.1</td>\n",
       "      <td>-4.6</td>\n",
       "    </tr>\n",
       "    <tr>\n",
       "      <th>3</th>\n",
       "      <td>Holly</td>\n",
       "      <td>Carrasco</td>\n",
       "      <td>50</td>\n",
       "      <td>S</td>\n",
       "      <td>1</td>\n",
       "      <td>A</td>\n",
       "      <td>51.7</td>\n",
       "      <td>51.2</td>\n",
       "      <td>-0.5</td>\n",
       "    </tr>\n",
       "    <tr>\n",
       "      <th>4</th>\n",
       "      <td>Justin</td>\n",
       "      <td>Carrasco</td>\n",
       "      <td>52</td>\n",
       "      <td>H</td>\n",
       "      <td>1</td>\n",
       "      <td>A</td>\n",
       "      <td>47.0</td>\n",
       "      <td>47.1</td>\n",
       "      <td>0.1</td>\n",
       "    </tr>\n",
       "    <tr>\n",
       "      <th>...</th>\n",
       "      <td>...</td>\n",
       "      <td>...</td>\n",
       "      <td>...</td>\n",
       "      <td>...</td>\n",
       "      <td>...</td>\n",
       "      <td>...</td>\n",
       "      <td>...</td>\n",
       "      <td>...</td>\n",
       "      <td>...</td>\n",
       "    </tr>\n",
       "    <tr>\n",
       "      <th>193</th>\n",
       "      <td>Jacob</td>\n",
       "      <td>Novak</td>\n",
       "      <td>52</td>\n",
       "      <td>H</td>\n",
       "      <td>3</td>\n",
       "      <td>T</td>\n",
       "      <td>71.3</td>\n",
       "      <td>74.3</td>\n",
       "      <td>3.0</td>\n",
       "    </tr>\n",
       "    <tr>\n",
       "      <th>194</th>\n",
       "      <td>Teo</td>\n",
       "      <td>Steiner</td>\n",
       "      <td>41</td>\n",
       "      <td>S</td>\n",
       "      <td>3</td>\n",
       "      <td>T</td>\n",
       "      <td>72.5</td>\n",
       "      <td>70.4</td>\n",
       "      <td>-2.1</td>\n",
       "    </tr>\n",
       "    <tr>\n",
       "      <th>195</th>\n",
       "      <td>Alexander</td>\n",
       "      <td>Takahashi</td>\n",
       "      <td>54</td>\n",
       "      <td>S</td>\n",
       "      <td>3</td>\n",
       "      <td>T</td>\n",
       "      <td>30.8</td>\n",
       "      <td>33.1</td>\n",
       "      <td>2.3</td>\n",
       "    </tr>\n",
       "    <tr>\n",
       "      <th>196</th>\n",
       "      <td>Alexandere</td>\n",
       "      <td>Takahashi</td>\n",
       "      <td>40</td>\n",
       "      <td>H</td>\n",
       "      <td>3</td>\n",
       "      <td>T</td>\n",
       "      <td>53.6</td>\n",
       "      <td>53.8</td>\n",
       "      <td>0.2</td>\n",
       "    </tr>\n",
       "    <tr>\n",
       "      <th>197</th>\n",
       "      <td>Chloe</td>\n",
       "      <td>Takahashi</td>\n",
       "      <td>32</td>\n",
       "      <td>S</td>\n",
       "      <td>3</td>\n",
       "      <td>T</td>\n",
       "      <td>43.1</td>\n",
       "      <td>42.1</td>\n",
       "      <td>-1.0</td>\n",
       "    </tr>\n",
       "  </tbody>\n",
       "</table>\n",
       "<p>198 rows × 9 columns</p>\n",
       "</div>"
      ],
      "text/plain": [
       "     first_name  last_name  age Happy_Sad_group  Dosage Drug  \\\n",
       "0       Bastian   Carrasco   25               H       1    A   \n",
       "1          Evan   Carrasco   52               S       1    A   \n",
       "2     Florencia   Carrasco   29               H       1    A   \n",
       "3         Holly   Carrasco   50               S       1    A   \n",
       "4        Justin   Carrasco   52               H       1    A   \n",
       "..          ...        ...  ...             ...     ...  ...   \n",
       "193       Jacob      Novak   52               H       3    T   \n",
       "194         Teo    Steiner   41               S       3    T   \n",
       "195   Alexander  Takahashi   54               S       3    T   \n",
       "196  Alexandere  Takahashi   40               H       3    T   \n",
       "197       Chloe  Takahashi   32               S       3    T   \n",
       "\n",
       "     Mem_Score_Before  Mem_Score_After  Diff  \n",
       "0                63.5             61.2  -2.3  \n",
       "1                41.6             40.7  -0.9  \n",
       "2                59.7             55.1  -4.6  \n",
       "3                51.7             51.2  -0.5  \n",
       "4                47.0             47.1   0.1  \n",
       "..                ...              ...   ...  \n",
       "193              71.3             74.3   3.0  \n",
       "194              72.5             70.4  -2.1  \n",
       "195              30.8             33.1   2.3  \n",
       "196              53.6             53.8   0.2  \n",
       "197              43.1             42.1  -1.0  \n",
       "\n",
       "[198 rows x 9 columns]"
      ]
     },
     "execution_count": 14,
     "metadata": {},
     "output_type": "execute_result"
    }
   ],
   "source": [
    "df"
   ]
  },
  {
   "cell_type": "markdown",
   "id": "8e92f14a",
   "metadata": {},
   "source": [
    "#### 3a) Посчитайте, какие бывают типы препаратов и в каком объеме они представлены в данных. Вес - 0.25\n"
   ]
  },
  {
   "cell_type": "code",
   "execution_count": 15,
   "id": "1357c037",
   "metadata": {},
   "outputs": [
    {
     "data": {
      "text/plain": [
       "array(['A', 'S', 'T'], dtype=object)"
      ]
     },
     "execution_count": 15,
     "metadata": {},
     "output_type": "execute_result"
    }
   ],
   "source": [
    "# всего три вида препаратов : 'A', 'S', 'T'\n",
    "\n",
    "df['Drug'].unique()"
   ]
  },
  {
   "cell_type": "code",
   "execution_count": 16,
   "id": "3107ddb9",
   "metadata": {},
   "outputs": [
    {
     "data": {
      "text/plain": [
       "A    67\n",
       "S    66\n",
       "T    65\n",
       "Name: Drug, dtype: int64"
      ]
     },
     "execution_count": 16,
     "metadata": {},
     "output_type": "execute_result"
    }
   ],
   "source": [
    "# в большем количестве присутствует препарат 'A', далее идет препарат 'S', а за ним следует препарат 'T'\n",
    "\n",
    "df['Drug'].value_counts()"
   ]
  },
  {
   "cell_type": "markdown",
   "id": "32727577",
   "metadata": {},
   "source": [
    "#### 3b) Посчитатайте значение парного t-теста для изменение результата теста на память для каждого из видов препарата Вес - 0.75"
   ]
  },
  {
   "cell_type": "code",
   "execution_count": 17,
   "id": "3cd401f3",
   "metadata": {},
   "outputs": [],
   "source": [
    "# Для препарата А: a -  значение до проведения теста на память, b -  значение после проведения теста на память\n",
    "\n",
    "a = df[df['Drug']=='A']['Mem_Score_Before']\n",
    "b = df[df['Drug']=='A']['Mem_Score_After']\n",
    "\n",
    "# H0: Средние значения результатов теста до и после применения препарата равны.\n",
    "# H1: Среднее значение результатов теста после применения препарата значимо различается от среднего значения результатов до применения препарата."
   ]
  },
  {
   "cell_type": "code",
   "execution_count": 18,
   "id": "87d2b12a",
   "metadata": {},
   "outputs": [
    {
     "data": {
      "text/plain": [
       "Ttest_relResult(statistic=-5.8485679397308425, pvalue=1.6898179935298675e-07)"
      ]
     },
     "execution_count": 18,
     "metadata": {},
     "output_type": "execute_result"
    }
   ],
   "source": [
    "# Выборки связаны, поэтому используем парный ttest\n",
    "\n",
    "from scipy.stats import ttest_rel\n",
    "resultA = stats.ttest_rel(a, b)\n",
    "resultA\n"
   ]
  },
  {
   "cell_type": "code",
   "execution_count": 19,
   "id": "2db611f1",
   "metadata": {},
   "outputs": [
    {
     "data": {
      "text/plain": [
       "False"
      ]
     },
     "execution_count": 19,
     "metadata": {},
     "output_type": "execute_result"
    }
   ],
   "source": [
    "# проверим, входит ли t-статистика в диапазон от [-Z_кр;Z_кр] \n",
    "norm.ppf(alpha/2)<=resultA[0]<=norm.ppf(1-alpha/2)\n",
    "\n",
    "# Нет, не входит, значит отвергаем нулевую гипотезу"
   ]
  },
  {
   "cell_type": "code",
   "execution_count": 20,
   "id": "09482bbb",
   "metadata": {},
   "outputs": [],
   "source": [
    "# Для препарата S: a -  значение до проведения теста на память, b -  значение после проведения теста на память\n",
    "\n",
    "a = df[df['Drug']=='S']['Mem_Score_Before']\n",
    "b = df[df['Drug']=='S']['Mem_Score_After']\n",
    "\n",
    "# H0: Средние значения результатов теста до и после применения препарата равны.\n",
    "# H1: Среднее значение результатов теста после применения препарата значимо различается от среднего значения результатов до применения препарата."
   ]
  },
  {
   "cell_type": "code",
   "execution_count": 21,
   "id": "5f1f9015",
   "metadata": {},
   "outputs": [
    {
     "data": {
      "text/plain": [
       "Ttest_relResult(statistic=0.1854597408842658, pvalue=0.8534459675334038)"
      ]
     },
     "execution_count": 21,
     "metadata": {},
     "output_type": "execute_result"
    }
   ],
   "source": [
    "from scipy.stats import ttest_rel\n",
    "resultS = stats.ttest_rel(a, b)\n",
    "resultS\n"
   ]
  },
  {
   "cell_type": "code",
   "execution_count": 22,
   "id": "a4fe196d",
   "metadata": {},
   "outputs": [
    {
     "data": {
      "text/plain": [
       "True"
      ]
     },
     "execution_count": 22,
     "metadata": {},
     "output_type": "execute_result"
    }
   ],
   "source": [
    "# проверим, входит ли t-статистика в диапазон от [-Z_кр;Z_кр] \n",
    "norm.ppf(alpha/2)<=resultS[0]<=norm.ppf(1-alpha/2)\n",
    "\n",
    "# Да, входит, значит принимаем нулевую гипотезу"
   ]
  },
  {
   "cell_type": "code",
   "execution_count": 23,
   "id": "ed43bb6f",
   "metadata": {},
   "outputs": [],
   "source": [
    "# Для препарата T: a -  значение до проведения теста на память, b -  значение после проведения теста на память\n",
    "\n",
    "a = df[df['Drug']=='T']['Mem_Score_Before']\n",
    "b = df[df['Drug']=='T']['Mem_Score_After']\n",
    "\n",
    "# H0: Средние значения результатов теста до и после применения препарата равны.\n",
    "# H1: Среднее значение результатов теста после применения препарата значимо различается от среднего значения результатов до применения препарата."
   ]
  },
  {
   "cell_type": "code",
   "execution_count": 24,
   "id": "fba57994",
   "metadata": {
    "scrolled": true
   },
   "outputs": [
    {
     "data": {
      "text/plain": [
       "Ttest_relResult(statistic=0.6669171283034249, pvalue=0.5072224471243232)"
      ]
     },
     "execution_count": 24,
     "metadata": {},
     "output_type": "execute_result"
    }
   ],
   "source": [
    "from scipy.stats import ttest_rel\n",
    "resultT = stats.ttest_rel(a, b)\n",
    "resultT\n"
   ]
  },
  {
   "cell_type": "code",
   "execution_count": 25,
   "id": "ad70a85d",
   "metadata": {},
   "outputs": [
    {
     "data": {
      "text/plain": [
       "True"
      ]
     },
     "execution_count": 25,
     "metadata": {},
     "output_type": "execute_result"
    }
   ],
   "source": [
    "# проверим, входит ли t-статистика в диапазон от [-Z_кр;Z_кр] \n",
    "norm.ppf(alpha/2)<=resultT[0]<=norm.ppf(1-alpha/2)\n",
    "\n",
    "# Да, входит, значит принимаем нулевую гипотезу"
   ]
  },
  {
   "cell_type": "markdown",
   "id": "e7a044bc",
   "metadata": {},
   "source": [
    "#### 3c) Получите p-value для каждого из полученных значений t-теста. Какие препараты влияют на память, а какие нет? Вес - 0.75"
   ]
  },
  {
   "cell_type": "code",
   "execution_count": 26,
   "id": "4e97fadb",
   "metadata": {},
   "outputs": [
    {
     "name": "stdout",
     "output_type": "stream",
     "text": [
      "p-value = 1.6898179935298675e-07\n"
     ]
    }
   ],
   "source": [
    "# Для препарата А:\n",
    "print(f'p-value = {resultA[1]}')"
   ]
  },
  {
   "cell_type": "code",
   "execution_count": 27,
   "id": "ff02f809",
   "metadata": {},
   "outputs": [
    {
     "data": {
      "text/plain": [
       "False"
      ]
     },
     "execution_count": 27,
     "metadata": {},
     "output_type": "execute_result"
    }
   ],
   "source": [
    "# cравним p-value с уровнем значимости\n",
    "\n",
    "resultA[1] > 0.05\n",
    "\n",
    "# Так как P-value меньше 0,05, принимаем альтернативную гипотезу о том, что среднее значение результатов теста после применения препарата значимо различается от среднего значения результатов до применения препарата.\n",
    "# Следовательно, препарат A влияет на память"
   ]
  },
  {
   "cell_type": "code",
   "execution_count": 28,
   "id": "2dddec2e",
   "metadata": {},
   "outputs": [
    {
     "name": "stdout",
     "output_type": "stream",
     "text": [
      "p-value = 0.8534459675334038\n"
     ]
    }
   ],
   "source": [
    "# Для препарата S:\n",
    "print(f'p-value = {resultS[1]}')"
   ]
  },
  {
   "cell_type": "code",
   "execution_count": 29,
   "id": "71501f76",
   "metadata": {},
   "outputs": [
    {
     "data": {
      "text/plain": [
       "True"
      ]
     },
     "execution_count": 29,
     "metadata": {},
     "output_type": "execute_result"
    }
   ],
   "source": [
    "# cравним p-value с уровнем значимости\n",
    "\n",
    "resultS[1] > 0.05\n",
    "\n",
    "# Так как P-value больше 0,05, принимаем нулевую гипотезу о том, что средние значения результатов теста до и после применения препарата равны.\n",
    "# Следовательно, препарат S не влияет на память"
   ]
  },
  {
   "cell_type": "code",
   "execution_count": 30,
   "id": "743ab01a",
   "metadata": {},
   "outputs": [
    {
     "name": "stdout",
     "output_type": "stream",
     "text": [
      "p-value = 0.5072224471243232\n"
     ]
    }
   ],
   "source": [
    "# Для препарата T:\n",
    "print(f'p-value = {resultT[1]}')"
   ]
  },
  {
   "cell_type": "code",
   "execution_count": 31,
   "id": "bcde959a",
   "metadata": {},
   "outputs": [
    {
     "data": {
      "text/plain": [
       "True"
      ]
     },
     "execution_count": 31,
     "metadata": {},
     "output_type": "execute_result"
    }
   ],
   "source": [
    "# cравним p-value с уровнем значимости\n",
    "\n",
    "resultT[1]> 0.05\n",
    "\n",
    "# Так как P-value больше 0,05, принимаем нулевую гипотезу о том, что средние значения результатов теста до и после применения препарата равны.\n",
    "# Следовательно, препарат T не влияет на память"
   ]
  },
  {
   "cell_type": "markdown",
   "id": "dbbf2623",
   "metadata": {},
   "source": [
    "## Задание 4: двухвыборочный t-test"
   ]
  },
  {
   "cell_type": "code",
   "execution_count": 32,
   "id": "e1021f80",
   "metadata": {},
   "outputs": [],
   "source": [
    "import pandas as pd\n",
    "import numpy as np\n",
    "df = pd.read_csv('C:/Users/AcerA3/datasets/cookie_cats.csv')"
   ]
  },
  {
   "cell_type": "code",
   "execution_count": 33,
   "id": "03f46680",
   "metadata": {},
   "outputs": [
    {
     "data": {
      "text/html": [
       "<div>\n",
       "<style scoped>\n",
       "    .dataframe tbody tr th:only-of-type {\n",
       "        vertical-align: middle;\n",
       "    }\n",
       "\n",
       "    .dataframe tbody tr th {\n",
       "        vertical-align: top;\n",
       "    }\n",
       "\n",
       "    .dataframe thead th {\n",
       "        text-align: right;\n",
       "    }\n",
       "</style>\n",
       "<table border=\"1\" class=\"dataframe\">\n",
       "  <thead>\n",
       "    <tr style=\"text-align: right;\">\n",
       "      <th></th>\n",
       "      <th>userid</th>\n",
       "      <th>version</th>\n",
       "      <th>sum_gamerounds</th>\n",
       "      <th>retention_1</th>\n",
       "      <th>retention_7</th>\n",
       "    </tr>\n",
       "  </thead>\n",
       "  <tbody>\n",
       "    <tr>\n",
       "      <th>0</th>\n",
       "      <td>116</td>\n",
       "      <td>gate_30</td>\n",
       "      <td>3</td>\n",
       "      <td>False</td>\n",
       "      <td>False</td>\n",
       "    </tr>\n",
       "    <tr>\n",
       "      <th>1</th>\n",
       "      <td>337</td>\n",
       "      <td>gate_30</td>\n",
       "      <td>38</td>\n",
       "      <td>True</td>\n",
       "      <td>False</td>\n",
       "    </tr>\n",
       "    <tr>\n",
       "      <th>2</th>\n",
       "      <td>377</td>\n",
       "      <td>gate_40</td>\n",
       "      <td>165</td>\n",
       "      <td>True</td>\n",
       "      <td>False</td>\n",
       "    </tr>\n",
       "    <tr>\n",
       "      <th>3</th>\n",
       "      <td>483</td>\n",
       "      <td>gate_40</td>\n",
       "      <td>1</td>\n",
       "      <td>False</td>\n",
       "      <td>False</td>\n",
       "    </tr>\n",
       "    <tr>\n",
       "      <th>4</th>\n",
       "      <td>488</td>\n",
       "      <td>gate_40</td>\n",
       "      <td>179</td>\n",
       "      <td>True</td>\n",
       "      <td>True</td>\n",
       "    </tr>\n",
       "    <tr>\n",
       "      <th>...</th>\n",
       "      <td>...</td>\n",
       "      <td>...</td>\n",
       "      <td>...</td>\n",
       "      <td>...</td>\n",
       "      <td>...</td>\n",
       "    </tr>\n",
       "    <tr>\n",
       "      <th>90184</th>\n",
       "      <td>9999441</td>\n",
       "      <td>gate_40</td>\n",
       "      <td>97</td>\n",
       "      <td>True</td>\n",
       "      <td>False</td>\n",
       "    </tr>\n",
       "    <tr>\n",
       "      <th>90185</th>\n",
       "      <td>9999479</td>\n",
       "      <td>gate_40</td>\n",
       "      <td>30</td>\n",
       "      <td>False</td>\n",
       "      <td>False</td>\n",
       "    </tr>\n",
       "    <tr>\n",
       "      <th>90186</th>\n",
       "      <td>9999710</td>\n",
       "      <td>gate_30</td>\n",
       "      <td>28</td>\n",
       "      <td>True</td>\n",
       "      <td>False</td>\n",
       "    </tr>\n",
       "    <tr>\n",
       "      <th>90187</th>\n",
       "      <td>9999768</td>\n",
       "      <td>gate_40</td>\n",
       "      <td>51</td>\n",
       "      <td>True</td>\n",
       "      <td>False</td>\n",
       "    </tr>\n",
       "    <tr>\n",
       "      <th>90188</th>\n",
       "      <td>9999861</td>\n",
       "      <td>gate_40</td>\n",
       "      <td>16</td>\n",
       "      <td>False</td>\n",
       "      <td>False</td>\n",
       "    </tr>\n",
       "  </tbody>\n",
       "</table>\n",
       "<p>90189 rows × 5 columns</p>\n",
       "</div>"
      ],
      "text/plain": [
       "        userid  version  sum_gamerounds  retention_1  retention_7\n",
       "0          116  gate_30               3        False        False\n",
       "1          337  gate_30              38         True        False\n",
       "2          377  gate_40             165         True        False\n",
       "3          483  gate_40               1        False        False\n",
       "4          488  gate_40             179         True         True\n",
       "...        ...      ...             ...          ...          ...\n",
       "90184  9999441  gate_40              97         True        False\n",
       "90185  9999479  gate_40              30        False        False\n",
       "90186  9999710  gate_30              28         True        False\n",
       "90187  9999768  gate_40              51         True        False\n",
       "90188  9999861  gate_40              16        False        False\n",
       "\n",
       "[90189 rows x 5 columns]"
      ]
     },
     "execution_count": 33,
     "metadata": {},
     "output_type": "execute_result"
    }
   ],
   "source": [
    "df"
   ]
  },
  {
   "cell_type": "markdown",
   "id": "17605653",
   "metadata": {},
   "source": [
    "#### 4a) Замените в колонках retention_1 и retention_7 значения True на 1, а знаечния False на 0. Вес - 0.25"
   ]
  },
  {
   "cell_type": "code",
   "execution_count": 34,
   "id": "5e10b072",
   "metadata": {},
   "outputs": [],
   "source": [
    "df['retention_1']=df['retention_1'].apply(lambda x: 1 if x == True else 0)"
   ]
  },
  {
   "cell_type": "code",
   "execution_count": 35,
   "id": "e5293db4",
   "metadata": {},
   "outputs": [],
   "source": [
    "df['retention_7']=df['retention_7'].apply(lambda x: 1 if x == True else 0)"
   ]
  },
  {
   "cell_type": "code",
   "execution_count": 36,
   "id": "9955e274",
   "metadata": {},
   "outputs": [
    {
     "data": {
      "text/html": [
       "<div>\n",
       "<style scoped>\n",
       "    .dataframe tbody tr th:only-of-type {\n",
       "        vertical-align: middle;\n",
       "    }\n",
       "\n",
       "    .dataframe tbody tr th {\n",
       "        vertical-align: top;\n",
       "    }\n",
       "\n",
       "    .dataframe thead th {\n",
       "        text-align: right;\n",
       "    }\n",
       "</style>\n",
       "<table border=\"1\" class=\"dataframe\">\n",
       "  <thead>\n",
       "    <tr style=\"text-align: right;\">\n",
       "      <th></th>\n",
       "      <th>userid</th>\n",
       "      <th>version</th>\n",
       "      <th>sum_gamerounds</th>\n",
       "      <th>retention_1</th>\n",
       "      <th>retention_7</th>\n",
       "    </tr>\n",
       "  </thead>\n",
       "  <tbody>\n",
       "    <tr>\n",
       "      <th>0</th>\n",
       "      <td>116</td>\n",
       "      <td>gate_30</td>\n",
       "      <td>3</td>\n",
       "      <td>0</td>\n",
       "      <td>0</td>\n",
       "    </tr>\n",
       "    <tr>\n",
       "      <th>1</th>\n",
       "      <td>337</td>\n",
       "      <td>gate_30</td>\n",
       "      <td>38</td>\n",
       "      <td>1</td>\n",
       "      <td>0</td>\n",
       "    </tr>\n",
       "    <tr>\n",
       "      <th>2</th>\n",
       "      <td>377</td>\n",
       "      <td>gate_40</td>\n",
       "      <td>165</td>\n",
       "      <td>1</td>\n",
       "      <td>0</td>\n",
       "    </tr>\n",
       "    <tr>\n",
       "      <th>3</th>\n",
       "      <td>483</td>\n",
       "      <td>gate_40</td>\n",
       "      <td>1</td>\n",
       "      <td>0</td>\n",
       "      <td>0</td>\n",
       "    </tr>\n",
       "    <tr>\n",
       "      <th>4</th>\n",
       "      <td>488</td>\n",
       "      <td>gate_40</td>\n",
       "      <td>179</td>\n",
       "      <td>1</td>\n",
       "      <td>1</td>\n",
       "    </tr>\n",
       "    <tr>\n",
       "      <th>...</th>\n",
       "      <td>...</td>\n",
       "      <td>...</td>\n",
       "      <td>...</td>\n",
       "      <td>...</td>\n",
       "      <td>...</td>\n",
       "    </tr>\n",
       "    <tr>\n",
       "      <th>90184</th>\n",
       "      <td>9999441</td>\n",
       "      <td>gate_40</td>\n",
       "      <td>97</td>\n",
       "      <td>1</td>\n",
       "      <td>0</td>\n",
       "    </tr>\n",
       "    <tr>\n",
       "      <th>90185</th>\n",
       "      <td>9999479</td>\n",
       "      <td>gate_40</td>\n",
       "      <td>30</td>\n",
       "      <td>0</td>\n",
       "      <td>0</td>\n",
       "    </tr>\n",
       "    <tr>\n",
       "      <th>90186</th>\n",
       "      <td>9999710</td>\n",
       "      <td>gate_30</td>\n",
       "      <td>28</td>\n",
       "      <td>1</td>\n",
       "      <td>0</td>\n",
       "    </tr>\n",
       "    <tr>\n",
       "      <th>90187</th>\n",
       "      <td>9999768</td>\n",
       "      <td>gate_40</td>\n",
       "      <td>51</td>\n",
       "      <td>1</td>\n",
       "      <td>0</td>\n",
       "    </tr>\n",
       "    <tr>\n",
       "      <th>90188</th>\n",
       "      <td>9999861</td>\n",
       "      <td>gate_40</td>\n",
       "      <td>16</td>\n",
       "      <td>0</td>\n",
       "      <td>0</td>\n",
       "    </tr>\n",
       "  </tbody>\n",
       "</table>\n",
       "<p>90189 rows × 5 columns</p>\n",
       "</div>"
      ],
      "text/plain": [
       "        userid  version  sum_gamerounds  retention_1  retention_7\n",
       "0          116  gate_30               3            0            0\n",
       "1          337  gate_30              38            1            0\n",
       "2          377  gate_40             165            1            0\n",
       "3          483  gate_40               1            0            0\n",
       "4          488  gate_40             179            1            1\n",
       "...        ...      ...             ...          ...          ...\n",
       "90184  9999441  gate_40              97            1            0\n",
       "90185  9999479  gate_40              30            0            0\n",
       "90186  9999710  gate_30              28            1            0\n",
       "90187  9999768  gate_40              51            1            0\n",
       "90188  9999861  gate_40              16            0            0\n",
       "\n",
       "[90189 rows x 5 columns]"
      ]
     },
     "execution_count": 36,
     "metadata": {},
     "output_type": "execute_result"
    }
   ],
   "source": [
    "df"
   ]
  },
  {
   "cell_type": "markdown",
   "id": "75a308df",
   "metadata": {},
   "source": [
    "#### 4b) Посчитайте среднее по двум группам для каждой из переменных sun_gamerounds, retention_1, retention_7. Вес - 0.5"
   ]
  },
  {
   "cell_type": "code",
   "execution_count": 37,
   "id": "989d9172",
   "metadata": {},
   "outputs": [
    {
     "data": {
      "text/plain": [
       "version\n",
       "gate_30    52.456264\n",
       "gate_40    51.298776\n",
       "Name: sum_gamerounds, dtype: float64"
      ]
     },
     "execution_count": 37,
     "metadata": {},
     "output_type": "execute_result"
    }
   ],
   "source": [
    "df.groupby('version')['sum_gamerounds'].mean()"
   ]
  },
  {
   "cell_type": "code",
   "execution_count": 38,
   "id": "46950ab7",
   "metadata": {},
   "outputs": [
    {
     "data": {
      "text/plain": [
       "version\n",
       "gate_30    0.448188\n",
       "gate_40    0.442283\n",
       "Name: retention_1, dtype: float64"
      ]
     },
     "execution_count": 38,
     "metadata": {},
     "output_type": "execute_result"
    }
   ],
   "source": [
    "df.groupby('version')['retention_1'].mean()"
   ]
  },
  {
   "cell_type": "code",
   "execution_count": 39,
   "id": "2cc865ab",
   "metadata": {},
   "outputs": [
    {
     "data": {
      "text/plain": [
       "version\n",
       "gate_30    0.190201\n",
       "gate_40    0.182000\n",
       "Name: retention_7, dtype: float64"
      ]
     },
     "execution_count": 39,
     "metadata": {},
     "output_type": "execute_result"
    }
   ],
   "source": [
    "df.groupby('version')['retention_7'].mean()"
   ]
  },
  {
   "cell_type": "markdown",
   "id": "0edc84bb",
   "metadata": {},
   "source": [
    "#### 4с) Посчитайте двухвыборочный t-test для каждой из переменных выше."
   ]
  },
  {
   "cell_type": "code",
   "execution_count": 40,
   "id": "e1559c9f",
   "metadata": {},
   "outputs": [
    {
     "data": {
      "text/plain": [
       "Ttest_indResult(statistic=0.8854374331270672, pvalue=0.37592438409326223)"
      ]
     },
     "execution_count": 40,
     "metadata": {},
     "output_type": "execute_result"
    }
   ],
   "source": [
    "# Для переменной sum_gamerounds\n",
    "# H0: Среднее значение сыгранных раундов среди игроков, которые попадли к воротам на 30 уровне равно среднему значению сыгранных раундов среди игроков, которые попадают к воротам на 40 уровне.\n",
    "# H1: Среднее значение сыгранных раундов среди игроков, которые попадли к воротам на 30 уровне не равно среднему значению сыгранных раундов среди игроков, которые попадают к воротам на 40 уровне.\n",
    "resultS = stats.ttest_ind(df[df['version']=='gate_30']['sum_gamerounds'], df[df['version']=='gate_40']['sum_gamerounds'], equal_var=False)\n",
    "resultS\n",
    "\n",
    "# t-статистика входит в доверительный интервал при уровне значимости 0,05, следовательно, принимаем нулевую гипотезу"
   ]
  },
  {
   "cell_type": "code",
   "execution_count": 41,
   "id": "5ccb7e52",
   "metadata": {},
   "outputs": [
    {
     "data": {
      "text/plain": [
       "Ttest_indResult(statistic=1.7840774867039824, pvalue=0.07441443713953834)"
      ]
     },
     "execution_count": 41,
     "metadata": {},
     "output_type": "execute_result"
    }
   ],
   "source": [
    "# Для переменной retention_1\n",
    "# H0: В среднем количество игроков возвращающихся в игру спустя один день после скачивания с 30 уровня равно среднему количеству игроков возвращающихся в игру спустя один день после скачивания с 40 уровня.\n",
    "# H1: В среднем количество игроков возвращающихся в игру спустя один день после скачивания с 30 уровня не равно среднему количеству игроков возвращающихся в игру спустя один день после скачивания с 40 уровня.\n",
    "result1 = stats.ttest_ind(df[df['version']=='gate_30']['retention_1'], df[df['version']=='gate_40']['retention_1'], equal_var=False)\n",
    "result1\n",
    "\n",
    "# t-статистика входит в доверительный интервал при уровне значимости 0,05, следовательно, принимаем нулевую гипотезу"
   ]
  },
  {
   "cell_type": "code",
   "execution_count": 42,
   "id": "14e937c2",
   "metadata": {},
   "outputs": [
    {
     "data": {
      "text/plain": [
       "Ttest_indResult(statistic=3.164028946774232, pvalue=0.001556530181006652)"
      ]
     },
     "execution_count": 42,
     "metadata": {},
     "output_type": "execute_result"
    }
   ],
   "source": [
    "# Для переменной retention_7\n",
    "# H0: В среднем количество игроков возвращающихся в игру спустя семь дней после скачивания с 30 уровня равно среднему количеству игроков возвращающихся в игру спустя семь дней после скачивания с 40 уровня.\n",
    "# H1: В среднем количество игроков возвращающихся в игру спустя семь дней после скачивания с 30 уровня не равно среднему количеству игроков возвращающихся в игру спустя семь дней после скачивания с 40 уровня.\n",
    "result7 = stats.ttest_ind(df[df['version']=='gate_30']['retention_7'], df[df['version']=='gate_40']['retention_7'], equal_var=False)\n",
    "result7\n",
    "\n",
    "# t-статистика не входит в доверительный интервал при уровне значимости 0,05, следовательно, опровергаем нулевую гипотезу"
   ]
  },
  {
   "cell_type": "markdown",
   "id": "023eaa8f",
   "metadata": {},
   "source": [
    "#### 4d) Посчитайте p-value для полученных значений t-теста. Как новое изменение влияет на пользователей?"
   ]
  },
  {
   "cell_type": "code",
   "execution_count": 43,
   "id": "1e397481",
   "metadata": {},
   "outputs": [],
   "source": [
    "# Для переменной sum_gamerounds"
   ]
  },
  {
   "cell_type": "code",
   "execution_count": 44,
   "id": "1e806a1c",
   "metadata": {},
   "outputs": [
    {
     "data": {
      "text/plain": [
       "True"
      ]
     },
     "execution_count": 44,
     "metadata": {},
     "output_type": "execute_result"
    }
   ],
   "source": [
    "# cравним p-value с уровнем значимости\n",
    "\n",
    "resultS[1]> 0.05\n",
    "\n",
    "# Так как P-value больше 0,05, принимаем нулевую гипотезу о том, что среднее значение сыгранных раундов среди игроков, которые попадли к воротам на 30 уровне равно среднему значению сыгранных раундов среди игроков, которые попадают к воротам на 40 уровне.\n",
    "# Следовательно, изменение никак не отражается на количестве сыгранных раунов  в течение 14 дней "
   ]
  },
  {
   "cell_type": "code",
   "execution_count": 45,
   "id": "3b2a3be4",
   "metadata": {},
   "outputs": [],
   "source": [
    "# Для переменной retention_1"
   ]
  },
  {
   "cell_type": "code",
   "execution_count": 46,
   "id": "3f3db908",
   "metadata": {},
   "outputs": [
    {
     "data": {
      "text/plain": [
       "True"
      ]
     },
     "execution_count": 46,
     "metadata": {},
     "output_type": "execute_result"
    }
   ],
   "source": [
    "# cравним p-value с уровнем значимости\n",
    "\n",
    "result1[1]> 0.05\n",
    "\n",
    "# Так как P-value больше 0,05, принимаем нулевую гипотезу о том, что В среднем количество игроков возвращающихся в игру спустя один день после скачивания с 30 уровня равно среднему количеству игроков возвращающихся в игру спустя один день после скачивания с 40 уровня.\n",
    "# Следовательно, изменение никак не отражается на количестве игроков, возвращающихся в игру спустя один день"
   ]
  },
  {
   "cell_type": "code",
   "execution_count": 47,
   "id": "62563451",
   "metadata": {},
   "outputs": [],
   "source": [
    "# Для переменной retention_7"
   ]
  },
  {
   "cell_type": "code",
   "execution_count": 48,
   "id": "4a8d76a7",
   "metadata": {},
   "outputs": [
    {
     "data": {
      "text/plain": [
       "False"
      ]
     },
     "execution_count": 48,
     "metadata": {},
     "output_type": "execute_result"
    }
   ],
   "source": [
    "# cравним p-value с уровнем значимости\n",
    "\n",
    "result7[1]> 0.05\n",
    "\n",
    "# Так как P-value меньше 0,05, принимаем нулевую гипотезу о том, что в среднем количество игроков возвращающихся в игру спустя семь дней после скачивания с 30 уровня не равно среднему количеству игроков возвращающихся в игру спустя семь дней после скачивания с 40 уровня.\n",
    "# Следовательно, изменение уменьшило среднее количество игроков, возвращающихся в игру спустя 7 дней."
   ]
  },
  {
   "cell_type": "markdown",
   "id": "f51c7483",
   "metadata": {},
   "source": [
    "# Непараметрические критерии"
   ]
  },
  {
   "cell_type": "markdown",
   "id": "2814364d",
   "metadata": {},
   "source": [
    "## Задание 5: Критерий согласия хи-квадрат"
   ]
  },
  {
   "cell_type": "code",
   "execution_count": 49,
   "id": "e1fd7462",
   "metadata": {},
   "outputs": [],
   "source": [
    "import pandas as pd\n",
    "import numpy as np\n",
    "df = pd.read_csv('C:/Users/AcerA3/datasets/Food_Preference.csv')"
   ]
  },
  {
   "cell_type": "markdown",
   "id": "021981c0",
   "metadata": {},
   "source": [
    "#### 5a) Посчитайте, какие есть национальности и в каком количестве. А также какие есть возможные варианты предпочтений в еде."
   ]
  },
  {
   "cell_type": "code",
   "execution_count": 50,
   "id": "e54ba62d",
   "metadata": {},
   "outputs": [
    {
     "data": {
      "text/html": [
       "<div>\n",
       "<style scoped>\n",
       "    .dataframe tbody tr th:only-of-type {\n",
       "        vertical-align: middle;\n",
       "    }\n",
       "\n",
       "    .dataframe tbody tr th {\n",
       "        vertical-align: top;\n",
       "    }\n",
       "\n",
       "    .dataframe thead th {\n",
       "        text-align: right;\n",
       "    }\n",
       "</style>\n",
       "<table border=\"1\" class=\"dataframe\">\n",
       "  <thead>\n",
       "    <tr style=\"text-align: right;\">\n",
       "      <th></th>\n",
       "      <th>Timestamp</th>\n",
       "      <th>Participant_ID</th>\n",
       "      <th>Gender</th>\n",
       "      <th>Nationality</th>\n",
       "      <th>Age</th>\n",
       "      <th>Food</th>\n",
       "      <th>Juice</th>\n",
       "      <th>Dessert</th>\n",
       "    </tr>\n",
       "  </thead>\n",
       "  <tbody>\n",
       "    <tr>\n",
       "      <th>0</th>\n",
       "      <td>2019/05/07 2:59:13 PM GMT+8</td>\n",
       "      <td>FPS001</td>\n",
       "      <td>Male</td>\n",
       "      <td>Indian</td>\n",
       "      <td>24</td>\n",
       "      <td>Traditional food</td>\n",
       "      <td>Fresh Juice</td>\n",
       "      <td>Maybe</td>\n",
       "    </tr>\n",
       "    <tr>\n",
       "      <th>1</th>\n",
       "      <td>2019/05/07 2:59:45 PM GMT+8</td>\n",
       "      <td>FPS002</td>\n",
       "      <td>Female</td>\n",
       "      <td>Indian</td>\n",
       "      <td>22</td>\n",
       "      <td>Western Food</td>\n",
       "      <td>Carbonated drinks</td>\n",
       "      <td>Yes</td>\n",
       "    </tr>\n",
       "    <tr>\n",
       "      <th>2</th>\n",
       "      <td>2019/05/07 3:00:05 PM GMT+8</td>\n",
       "      <td>FPS003</td>\n",
       "      <td>Male</td>\n",
       "      <td>Indian</td>\n",
       "      <td>31</td>\n",
       "      <td>Western Food</td>\n",
       "      <td>Fresh Juice</td>\n",
       "      <td>Maybe</td>\n",
       "    </tr>\n",
       "    <tr>\n",
       "      <th>3</th>\n",
       "      <td>2019/05/07 3:00:11 PM GMT+8</td>\n",
       "      <td>FPS004</td>\n",
       "      <td>Female</td>\n",
       "      <td>Indian</td>\n",
       "      <td>25</td>\n",
       "      <td>Traditional food</td>\n",
       "      <td>Fresh Juice</td>\n",
       "      <td>Maybe</td>\n",
       "    </tr>\n",
       "    <tr>\n",
       "      <th>4</th>\n",
       "      <td>2019/05/07 3:02:50 PM GMT+8</td>\n",
       "      <td>FPS005</td>\n",
       "      <td>Male</td>\n",
       "      <td>Indian</td>\n",
       "      <td>27</td>\n",
       "      <td>Traditional food</td>\n",
       "      <td>Fresh Juice</td>\n",
       "      <td>Maybe</td>\n",
       "    </tr>\n",
       "    <tr>\n",
       "      <th>...</th>\n",
       "      <td>...</td>\n",
       "      <td>...</td>\n",
       "      <td>...</td>\n",
       "      <td>...</td>\n",
       "      <td>...</td>\n",
       "      <td>...</td>\n",
       "      <td>...</td>\n",
       "      <td>...</td>\n",
       "    </tr>\n",
       "    <tr>\n",
       "      <th>283</th>\n",
       "      <td>2019/05/10 9:24:00 AM GMT+8</td>\n",
       "      <td>FPS284</td>\n",
       "      <td>Male</td>\n",
       "      <td>Indian</td>\n",
       "      <td>27</td>\n",
       "      <td>Western Food</td>\n",
       "      <td>Fresh Juice</td>\n",
       "      <td>Yes</td>\n",
       "    </tr>\n",
       "    <tr>\n",
       "      <th>284</th>\n",
       "      <td>2019/05/10 9:32:54 AM GMT+8</td>\n",
       "      <td>FPS285</td>\n",
       "      <td>Male</td>\n",
       "      <td>Indian</td>\n",
       "      <td>24</td>\n",
       "      <td>Traditional food</td>\n",
       "      <td>Fresh Juice</td>\n",
       "      <td>Yes</td>\n",
       "    </tr>\n",
       "    <tr>\n",
       "      <th>285</th>\n",
       "      <td>2019/05/10 12:09:17 PM GMT+8</td>\n",
       "      <td>FPS286</td>\n",
       "      <td>Male</td>\n",
       "      <td>Indian</td>\n",
       "      <td>25</td>\n",
       "      <td>Traditional food</td>\n",
       "      <td>Fresh Juice</td>\n",
       "      <td>Yes</td>\n",
       "    </tr>\n",
       "    <tr>\n",
       "      <th>286</th>\n",
       "      <td>2019/05/10 12:52:17 PM GMT+8</td>\n",
       "      <td>FPS287</td>\n",
       "      <td>Male</td>\n",
       "      <td>Indian</td>\n",
       "      <td>27</td>\n",
       "      <td>Traditional food</td>\n",
       "      <td>Fresh Juice</td>\n",
       "      <td>Yes</td>\n",
       "    </tr>\n",
       "    <tr>\n",
       "      <th>287</th>\n",
       "      <td>2019/05/10 12:55:42 PM GMT+8</td>\n",
       "      <td>FPS288</td>\n",
       "      <td>Male</td>\n",
       "      <td>Indian</td>\n",
       "      <td>27</td>\n",
       "      <td>Traditional food</td>\n",
       "      <td>Fresh Juice</td>\n",
       "      <td>No</td>\n",
       "    </tr>\n",
       "  </tbody>\n",
       "</table>\n",
       "<p>288 rows × 8 columns</p>\n",
       "</div>"
      ],
      "text/plain": [
       "                        Timestamp Participant_ID  Gender Nationality  Age  \\\n",
       "0     2019/05/07 2:59:13 PM GMT+8         FPS001    Male      Indian   24   \n",
       "1     2019/05/07 2:59:45 PM GMT+8         FPS002  Female      Indian   22   \n",
       "2     2019/05/07 3:00:05 PM GMT+8         FPS003    Male      Indian   31   \n",
       "3     2019/05/07 3:00:11 PM GMT+8         FPS004  Female      Indian   25   \n",
       "4     2019/05/07 3:02:50 PM GMT+8         FPS005    Male      Indian   27   \n",
       "..                            ...            ...     ...         ...  ...   \n",
       "283   2019/05/10 9:24:00 AM GMT+8         FPS284    Male      Indian   27   \n",
       "284   2019/05/10 9:32:54 AM GMT+8         FPS285    Male      Indian   24   \n",
       "285  2019/05/10 12:09:17 PM GMT+8         FPS286    Male      Indian   25   \n",
       "286  2019/05/10 12:52:17 PM GMT+8         FPS287    Male      Indian   27   \n",
       "287  2019/05/10 12:55:42 PM GMT+8         FPS288    Male      Indian   27   \n",
       "\n",
       "                 Food              Juice Dessert  \n",
       "0    Traditional food        Fresh Juice   Maybe  \n",
       "1        Western Food  Carbonated drinks     Yes  \n",
       "2        Western Food        Fresh Juice   Maybe  \n",
       "3    Traditional food        Fresh Juice   Maybe  \n",
       "4    Traditional food        Fresh Juice   Maybe  \n",
       "..                ...                ...     ...  \n",
       "283      Western Food        Fresh Juice     Yes  \n",
       "284  Traditional food        Fresh Juice     Yes  \n",
       "285  Traditional food        Fresh Juice     Yes  \n",
       "286  Traditional food        Fresh Juice     Yes  \n",
       "287  Traditional food        Fresh Juice      No  \n",
       "\n",
       "[288 rows x 8 columns]"
      ]
     },
     "execution_count": 50,
     "metadata": {},
     "output_type": "execute_result"
    }
   ],
   "source": [
    "df"
   ]
  },
  {
   "cell_type": "code",
   "execution_count": 51,
   "id": "c102ab78",
   "metadata": {},
   "outputs": [
    {
     "data": {
      "text/plain": [
       "Indian         241\n",
       "Malaysian       10\n",
       "Indonesia        7\n",
       "Pakistani        3\n",
       "Japan            2\n",
       "MY               2\n",
       "Maldivian        2\n",
       "Pakistani        2\n",
       "Algerian         1\n",
       "Mauritian        1\n",
       "China            1\n",
       "Malaysia         1\n",
       "Indonesian       1\n",
       "Indonesain       1\n",
       "Seychellois      1\n",
       "Korean           1\n",
       "Malaysia         1\n",
       "Nigerian         1\n",
       "Canadian         1\n",
       "MALAYSIAN        1\n",
       "Indonesian       1\n",
       "Malaysian        1\n",
       "Maldivian        1\n",
       "Pakistan         1\n",
       "Muslim           1\n",
       "Tanzanian        1\n",
       "Yemen            1\n",
       "Name: Nationality, dtype: int64"
      ]
     },
     "execution_count": 51,
     "metadata": {},
     "output_type": "execute_result"
    }
   ],
   "source": [
    "# Все национальности представлены в следующей частотной таблице. Наиболее встречаемая национальность - индийцы\n",
    "df['Nationality'].value_counts()"
   ]
  },
  {
   "cell_type": "code",
   "execution_count": 52,
   "id": "2f6811b3",
   "metadata": {},
   "outputs": [
    {
     "data": {
      "text/plain": [
       "array(['Traditional food', 'Western Food'], dtype=object)"
      ]
     },
     "execution_count": 52,
     "metadata": {},
     "output_type": "execute_result"
    }
   ],
   "source": [
    "# Всего имеется два предпочтения в еде\n",
    "df['Food'].unique()"
   ]
  },
  {
   "cell_type": "markdown",
   "id": "643ffb7a",
   "metadata": {},
   "source": [
    "#### 5b) Выберите самую частую национальность. Используйте критерий согласия хи-квадрат чтобы ответить на вопрос: \"Одинаково ли эта национальность любит все типы еды?\". Вес - 1 балл"
   ]
  },
  {
   "cell_type": "code",
   "execution_count": 53,
   "id": "9f4361a7",
   "metadata": {},
   "outputs": [
    {
     "data": {
      "text/plain": [
       "204"
      ]
     },
     "execution_count": 53,
     "metadata": {},
     "output_type": "execute_result"
    }
   ],
   "source": [
    "# Найдем частоты блюд традиционной кухни, препочитаемые индийцами\n",
    "df[(df['Nationality']=='Indian') & (df['Food']=='Traditional food')].shape[0]"
   ]
  },
  {
   "cell_type": "code",
   "execution_count": 54,
   "id": "86ec5e63",
   "metadata": {},
   "outputs": [
    {
     "data": {
      "text/plain": [
       "37"
      ]
     },
     "execution_count": 54,
     "metadata": {},
     "output_type": "execute_result"
    }
   ],
   "source": [
    "# Найдем частоты блюд западной кухни, препочитаемые индийцами\n",
    "df[(df['Nationality']=='Indian') & (df['Food']=='Western Food')].shape[0]"
   ]
  },
  {
   "cell_type": "code",
   "execution_count": 55,
   "id": "d6da7a62",
   "metadata": {},
   "outputs": [
    {
     "data": {
      "text/html": [
       "<div>\n",
       "<style scoped>\n",
       "    .dataframe tbody tr th:only-of-type {\n",
       "        vertical-align: middle;\n",
       "    }\n",
       "\n",
       "    .dataframe tbody tr th {\n",
       "        vertical-align: top;\n",
       "    }\n",
       "\n",
       "    .dataframe thead th {\n",
       "        text-align: right;\n",
       "    }\n",
       "</style>\n",
       "<table border=\"1\" class=\"dataframe\">\n",
       "  <thead>\n",
       "    <tr style=\"text-align: right;\">\n",
       "      <th></th>\n",
       "      <th>quantity</th>\n",
       "      <th>exp_prob</th>\n",
       "      <th>exp</th>\n",
       "      <th>obs</th>\n",
       "    </tr>\n",
       "  </thead>\n",
       "  <tbody>\n",
       "    <tr>\n",
       "      <th>Traditional food</th>\n",
       "      <td>204</td>\n",
       "      <td>0.5</td>\n",
       "      <td>120.5</td>\n",
       "      <td>204</td>\n",
       "    </tr>\n",
       "    <tr>\n",
       "      <th>Western Food</th>\n",
       "      <td>37</td>\n",
       "      <td>0.5</td>\n",
       "      <td>120.5</td>\n",
       "      <td>37</td>\n",
       "    </tr>\n",
       "  </tbody>\n",
       "</table>\n",
       "</div>"
      ],
      "text/plain": [
       "                  quantity  exp_prob    exp  obs\n",
       "Traditional food       204       0.5  120.5  204\n",
       "Western Food            37       0.5  120.5   37"
      ]
     },
     "execution_count": 55,
     "metadata": {},
     "output_type": "execute_result"
    }
   ],
   "source": [
    "# Создадим таблицу с фактическими и ожидаемыми частотами\n",
    "dr = pd.DataFrame()\n",
    "dr.index = [\"Traditional food\", \"Western Food\"]\n",
    "dr['quantity']=[204, 37]\n",
    "dr['exp_prob']=[0.5, 0.5]\n",
    "dr['exp']=241*dr['exp_prob']\n",
    "dr['obs']=dr['quantity']\n",
    "dr"
   ]
  },
  {
   "cell_type": "code",
   "execution_count": 73,
   "id": "2b86658c",
   "metadata": {},
   "outputs": [
    {
     "data": {
      "text/plain": [
       "Power_divergenceResult(statistic=115.72199170124482, pvalue=nan)"
      ]
     },
     "execution_count": 73,
     "metadata": {},
     "output_type": "execute_result"
    }
   ],
   "source": [
    "# С помощью Xu- квадрата проверяю гипотезу о согласованности частот с теоретическими вероятностями (равные доли: 0,5 и 0,5)\n",
    "\n",
    "from scipy import stats\n",
    "stats.chisquare(dr['obs'], dr['exp'], ddof=1)\n",
    "\n",
    "# Итак, получаю статистику выходящую за пределы критического значения 3,84 (при ddof=1) значит, гипотеза о согласованности частот с теоретическими вероянтостями отвергается.\n",
    "# Следовательно, нет, индийцы неодинаково любят традиционную и западную кухню. В большей степени предпочитают традиционную."
   ]
  },
  {
   "cell_type": "markdown",
   "id": "ce97dc87",
   "metadata": {},
   "source": [
    "## Задание 6: Критерий независимости хи-квадрат"
   ]
  },
  {
   "cell_type": "markdown",
   "id": "5f815268",
   "metadata": {},
   "source": [
    "#### 6a) Используйте критерий независимости хи-квадрат, чтобы для той же национальности ответить на вопрос: \"Одинаковые ли вкусовые предпочтения по еде у мужчин и женщин?\". Вес - 1.5 балла"
   ]
  },
  {
   "cell_type": "code",
   "execution_count": 57,
   "id": "849e73a7",
   "metadata": {},
   "outputs": [
    {
     "data": {
      "text/plain": [
       "20"
      ]
     },
     "execution_count": 57,
     "metadata": {},
     "output_type": "execute_result"
    }
   ],
   "source": [
    "# Найдем частоты блюд западной кухни, препочитаемые индийцами-мужчинами\n",
    "df[(df['Nationality']=='Indian') & (df['Gender']=='Male') & (df['Food']=='Western Food')].shape[0]"
   ]
  },
  {
   "cell_type": "code",
   "execution_count": 58,
   "id": "e6e6f405",
   "metadata": {},
   "outputs": [
    {
     "data": {
      "text/plain": [
       "17"
      ]
     },
     "execution_count": 58,
     "metadata": {},
     "output_type": "execute_result"
    }
   ],
   "source": [
    "# Найдем частоты блюд западной кухни, препочитаемые индийцами-женщинами\n",
    "df[(df['Nationality']=='Indian') & (df['Gender']=='Female') & (df['Food']=='Western Food')].shape[0]"
   ]
  },
  {
   "cell_type": "code",
   "execution_count": 59,
   "id": "e7d31c0f",
   "metadata": {},
   "outputs": [
    {
     "data": {
      "text/plain": [
       "69"
      ]
     },
     "execution_count": 59,
     "metadata": {},
     "output_type": "execute_result"
    }
   ],
   "source": [
    "# Найдем частоты блюд традиционной кухни, препочитаемые индийцами-мужчинами\n",
    "df[(df['Nationality']=='Indian') & (df['Gender']=='Male') & (df['Food']=='Traditional food')].shape[0]"
   ]
  },
  {
   "cell_type": "code",
   "execution_count": 60,
   "id": "dc0142fd",
   "metadata": {},
   "outputs": [
    {
     "data": {
      "text/plain": [
       "132"
      ]
     },
     "execution_count": 60,
     "metadata": {},
     "output_type": "execute_result"
    }
   ],
   "source": [
    "# Найдем частоты блюд западной кухни, препочитаемые индийцами-женщинами\n",
    "df[(df['Nationality']=='Indian') & (df['Gender']=='Female') & (df['Food']=='Traditional food')].shape[0]"
   ]
  },
  {
   "cell_type": "code",
   "execution_count": 61,
   "id": "8e2d4e0f",
   "metadata": {},
   "outputs": [
    {
     "data": {
      "text/html": [
       "<div>\n",
       "<style scoped>\n",
       "    .dataframe tbody tr th:only-of-type {\n",
       "        vertical-align: middle;\n",
       "    }\n",
       "\n",
       "    .dataframe tbody tr th {\n",
       "        vertical-align: top;\n",
       "    }\n",
       "\n",
       "    .dataframe thead th {\n",
       "        text-align: right;\n",
       "    }\n",
       "</style>\n",
       "<table border=\"1\" class=\"dataframe\">\n",
       "  <thead>\n",
       "    <tr style=\"text-align: right;\">\n",
       "      <th></th>\n",
       "      <th>Traditional Food</th>\n",
       "      <th>Western Food</th>\n",
       "    </tr>\n",
       "  </thead>\n",
       "  <tbody>\n",
       "    <tr>\n",
       "      <th>Men</th>\n",
       "      <td>69</td>\n",
       "      <td>20</td>\n",
       "    </tr>\n",
       "    <tr>\n",
       "      <th>Women</th>\n",
       "      <td>132</td>\n",
       "      <td>17</td>\n",
       "    </tr>\n",
       "  </tbody>\n",
       "</table>\n",
       "</div>"
      ],
      "text/plain": [
       "       Traditional Food  Western Food\n",
       "Men                  69            20\n",
       "Women               132            17"
      ]
     },
     "execution_count": 61,
     "metadata": {},
     "output_type": "execute_result"
    }
   ],
   "source": [
    "# Создадим таблицу с фактическими частотами\n",
    "s = pd.DataFrame()\n",
    "s.index = [\"Men\", \"Women\"]\n",
    "s['Traditional Food']= [69, 132]\n",
    "s['Western Food']=[20, 17]\n",
    "s"
   ]
  },
  {
   "cell_type": "code",
   "execution_count": 62,
   "id": "67f8745f",
   "metadata": {},
   "outputs": [
    {
     "data": {
      "text/plain": [
       "(5.193535782771191,\n",
       " 0.022671046244708618,\n",
       " 1,\n",
       " array([[ 75.16386555,  13.83613445],\n",
       "        [125.83613445,  23.16386555]]))"
      ]
     },
     "execution_count": 62,
     "metadata": {},
     "output_type": "execute_result"
    }
   ],
   "source": [
    "#H0: В генеральной совокупности не существует зависимости между полом и предпочитаемой едой.\n",
    "#H1: В генеральной совокупности существует зависимость между полом и предпочитаемой едой.\n",
    "result = stats.chi2_contingency(s, correction=False)\n",
    "result"
   ]
  },
  {
   "cell_type": "code",
   "execution_count": 63,
   "id": "6b3a8f05",
   "metadata": {},
   "outputs": [],
   "source": [
    "# посмотрела в таблице критическое значение на уровне значимости 0,05 и ddof = (2-1)*(2-1) = 1\n",
    "critical_value = 3.84\n",
    "\n",
    "# статистика Хи квадрат входит в критическую область, соответственно, опровергаем нулевую гипотезу об отсутствии зависимости между признаками пол и предпочтение в кухне\n",
    "# следовательно, можно сделать вывод о том что вкусовые предпочтения в пропорциональном соотношении разные и обусловлены половым признаком. Однако оба пола в большей степени любят традиционную кухню"
   ]
  },
  {
   "cell_type": "markdown",
   "id": "f332bdd3",
   "metadata": {},
   "source": [
    "#### 6b) Теперь поймите, есть ли различия в предпочтениях в дессертах у мужчин и женщин той же национальности. Также используйте хи-квадрат. Вес - 1.5 балла\n"
   ]
  },
  {
   "cell_type": "code",
   "execution_count": 64,
   "id": "51605667",
   "metadata": {},
   "outputs": [
    {
     "data": {
      "text/html": [
       "<div>\n",
       "<style scoped>\n",
       "    .dataframe tbody tr th:only-of-type {\n",
       "        vertical-align: middle;\n",
       "    }\n",
       "\n",
       "    .dataframe tbody tr th {\n",
       "        vertical-align: top;\n",
       "    }\n",
       "\n",
       "    .dataframe thead th {\n",
       "        text-align: right;\n",
       "    }\n",
       "</style>\n",
       "<table border=\"1\" class=\"dataframe\">\n",
       "  <thead>\n",
       "    <tr style=\"text-align: right;\">\n",
       "      <th></th>\n",
       "      <th>Timestamp</th>\n",
       "      <th>Participant_ID</th>\n",
       "      <th>Gender</th>\n",
       "      <th>Nationality</th>\n",
       "      <th>Age</th>\n",
       "      <th>Food</th>\n",
       "      <th>Juice</th>\n",
       "      <th>Dessert</th>\n",
       "    </tr>\n",
       "  </thead>\n",
       "  <tbody>\n",
       "    <tr>\n",
       "      <th>0</th>\n",
       "      <td>2019/05/07 2:59:13 PM GMT+8</td>\n",
       "      <td>FPS001</td>\n",
       "      <td>Male</td>\n",
       "      <td>Indian</td>\n",
       "      <td>24</td>\n",
       "      <td>Traditional food</td>\n",
       "      <td>Fresh Juice</td>\n",
       "      <td>Maybe</td>\n",
       "    </tr>\n",
       "    <tr>\n",
       "      <th>1</th>\n",
       "      <td>2019/05/07 2:59:45 PM GMT+8</td>\n",
       "      <td>FPS002</td>\n",
       "      <td>Female</td>\n",
       "      <td>Indian</td>\n",
       "      <td>22</td>\n",
       "      <td>Western Food</td>\n",
       "      <td>Carbonated drinks</td>\n",
       "      <td>Yes</td>\n",
       "    </tr>\n",
       "    <tr>\n",
       "      <th>2</th>\n",
       "      <td>2019/05/07 3:00:05 PM GMT+8</td>\n",
       "      <td>FPS003</td>\n",
       "      <td>Male</td>\n",
       "      <td>Indian</td>\n",
       "      <td>31</td>\n",
       "      <td>Western Food</td>\n",
       "      <td>Fresh Juice</td>\n",
       "      <td>Maybe</td>\n",
       "    </tr>\n",
       "    <tr>\n",
       "      <th>3</th>\n",
       "      <td>2019/05/07 3:00:11 PM GMT+8</td>\n",
       "      <td>FPS004</td>\n",
       "      <td>Female</td>\n",
       "      <td>Indian</td>\n",
       "      <td>25</td>\n",
       "      <td>Traditional food</td>\n",
       "      <td>Fresh Juice</td>\n",
       "      <td>Maybe</td>\n",
       "    </tr>\n",
       "    <tr>\n",
       "      <th>4</th>\n",
       "      <td>2019/05/07 3:02:50 PM GMT+8</td>\n",
       "      <td>FPS005</td>\n",
       "      <td>Male</td>\n",
       "      <td>Indian</td>\n",
       "      <td>27</td>\n",
       "      <td>Traditional food</td>\n",
       "      <td>Fresh Juice</td>\n",
       "      <td>Maybe</td>\n",
       "    </tr>\n",
       "    <tr>\n",
       "      <th>...</th>\n",
       "      <td>...</td>\n",
       "      <td>...</td>\n",
       "      <td>...</td>\n",
       "      <td>...</td>\n",
       "      <td>...</td>\n",
       "      <td>...</td>\n",
       "      <td>...</td>\n",
       "      <td>...</td>\n",
       "    </tr>\n",
       "    <tr>\n",
       "      <th>283</th>\n",
       "      <td>2019/05/10 9:24:00 AM GMT+8</td>\n",
       "      <td>FPS284</td>\n",
       "      <td>Male</td>\n",
       "      <td>Indian</td>\n",
       "      <td>27</td>\n",
       "      <td>Western Food</td>\n",
       "      <td>Fresh Juice</td>\n",
       "      <td>Yes</td>\n",
       "    </tr>\n",
       "    <tr>\n",
       "      <th>284</th>\n",
       "      <td>2019/05/10 9:32:54 AM GMT+8</td>\n",
       "      <td>FPS285</td>\n",
       "      <td>Male</td>\n",
       "      <td>Indian</td>\n",
       "      <td>24</td>\n",
       "      <td>Traditional food</td>\n",
       "      <td>Fresh Juice</td>\n",
       "      <td>Yes</td>\n",
       "    </tr>\n",
       "    <tr>\n",
       "      <th>285</th>\n",
       "      <td>2019/05/10 12:09:17 PM GMT+8</td>\n",
       "      <td>FPS286</td>\n",
       "      <td>Male</td>\n",
       "      <td>Indian</td>\n",
       "      <td>25</td>\n",
       "      <td>Traditional food</td>\n",
       "      <td>Fresh Juice</td>\n",
       "      <td>Yes</td>\n",
       "    </tr>\n",
       "    <tr>\n",
       "      <th>286</th>\n",
       "      <td>2019/05/10 12:52:17 PM GMT+8</td>\n",
       "      <td>FPS287</td>\n",
       "      <td>Male</td>\n",
       "      <td>Indian</td>\n",
       "      <td>27</td>\n",
       "      <td>Traditional food</td>\n",
       "      <td>Fresh Juice</td>\n",
       "      <td>Yes</td>\n",
       "    </tr>\n",
       "    <tr>\n",
       "      <th>287</th>\n",
       "      <td>2019/05/10 12:55:42 PM GMT+8</td>\n",
       "      <td>FPS288</td>\n",
       "      <td>Male</td>\n",
       "      <td>Indian</td>\n",
       "      <td>27</td>\n",
       "      <td>Traditional food</td>\n",
       "      <td>Fresh Juice</td>\n",
       "      <td>No</td>\n",
       "    </tr>\n",
       "  </tbody>\n",
       "</table>\n",
       "<p>288 rows × 8 columns</p>\n",
       "</div>"
      ],
      "text/plain": [
       "                        Timestamp Participant_ID  Gender Nationality  Age  \\\n",
       "0     2019/05/07 2:59:13 PM GMT+8         FPS001    Male      Indian   24   \n",
       "1     2019/05/07 2:59:45 PM GMT+8         FPS002  Female      Indian   22   \n",
       "2     2019/05/07 3:00:05 PM GMT+8         FPS003    Male      Indian   31   \n",
       "3     2019/05/07 3:00:11 PM GMT+8         FPS004  Female      Indian   25   \n",
       "4     2019/05/07 3:02:50 PM GMT+8         FPS005    Male      Indian   27   \n",
       "..                            ...            ...     ...         ...  ...   \n",
       "283   2019/05/10 9:24:00 AM GMT+8         FPS284    Male      Indian   27   \n",
       "284   2019/05/10 9:32:54 AM GMT+8         FPS285    Male      Indian   24   \n",
       "285  2019/05/10 12:09:17 PM GMT+8         FPS286    Male      Indian   25   \n",
       "286  2019/05/10 12:52:17 PM GMT+8         FPS287    Male      Indian   27   \n",
       "287  2019/05/10 12:55:42 PM GMT+8         FPS288    Male      Indian   27   \n",
       "\n",
       "                 Food              Juice Dessert  \n",
       "0    Traditional food        Fresh Juice   Maybe  \n",
       "1        Western Food  Carbonated drinks     Yes  \n",
       "2        Western Food        Fresh Juice   Maybe  \n",
       "3    Traditional food        Fresh Juice   Maybe  \n",
       "4    Traditional food        Fresh Juice   Maybe  \n",
       "..                ...                ...     ...  \n",
       "283      Western Food        Fresh Juice     Yes  \n",
       "284  Traditional food        Fresh Juice     Yes  \n",
       "285  Traditional food        Fresh Juice     Yes  \n",
       "286  Traditional food        Fresh Juice     Yes  \n",
       "287  Traditional food        Fresh Juice      No  \n",
       "\n",
       "[288 rows x 8 columns]"
      ]
     },
     "execution_count": 64,
     "metadata": {},
     "output_type": "execute_result"
    }
   ],
   "source": [
    "df"
   ]
  },
  {
   "cell_type": "code",
   "execution_count": 65,
   "id": "0de3651b",
   "metadata": {},
   "outputs": [
    {
     "data": {
      "text/plain": [
       "39"
      ]
     },
     "execution_count": 65,
     "metadata": {},
     "output_type": "execute_result"
    }
   ],
   "source": [
    "# Нахожу частоты ответа Yes в колонке Dessert, препочитаемые индусами-мужчинами\n",
    "df[(df['Nationality']=='Indian') & (df['Gender']=='Male') & (df['Dessert']=='Yes')].shape[0]"
   ]
  },
  {
   "cell_type": "code",
   "execution_count": 66,
   "id": "40d7b4fd",
   "metadata": {},
   "outputs": [
    {
     "data": {
      "text/plain": [
       "13"
      ]
     },
     "execution_count": 66,
     "metadata": {},
     "output_type": "execute_result"
    }
   ],
   "source": [
    "# Нахожу частоты ответа No в колонке Dessert, препочитаемые индусами-мужчинами\n",
    "df[(df['Nationality']=='Indian') & (df['Gender']=='Male') & (df['Dessert']=='No')].shape[0]"
   ]
  },
  {
   "cell_type": "code",
   "execution_count": 67,
   "id": "8d21585b",
   "metadata": {},
   "outputs": [
    {
     "data": {
      "text/plain": [
       "37"
      ]
     },
     "execution_count": 67,
     "metadata": {},
     "output_type": "execute_result"
    }
   ],
   "source": [
    "# Нахожу частоты ответа Maybe в колонке Dessert, препочитаемые индусами-мужчинами\n",
    "df[(df['Nationality']=='Indian') & (df['Gender']=='Male') & (df['Dessert']=='Maybe')].shape[0]"
   ]
  },
  {
   "cell_type": "code",
   "execution_count": 68,
   "id": "509c51ba",
   "metadata": {},
   "outputs": [
    {
     "data": {
      "text/plain": [
       "49"
      ]
     },
     "execution_count": 68,
     "metadata": {},
     "output_type": "execute_result"
    }
   ],
   "source": [
    "# Нахожу частоты ответа Yes в колонке Dessert, препочитаемые индусами-женщинами\n",
    "df[(df['Nationality']=='Indian') & (df['Gender']=='Female') & (df['Dessert']=='Yes')].shape[0]"
   ]
  },
  {
   "cell_type": "code",
   "execution_count": 69,
   "id": "dea0d2ab",
   "metadata": {},
   "outputs": [
    {
     "data": {
      "text/plain": [
       "34"
      ]
     },
     "execution_count": 69,
     "metadata": {},
     "output_type": "execute_result"
    }
   ],
   "source": [
    "# Нахожу частоты ответа No в колонке Dessert, препочитаемые индусами-женщинами\n",
    "df[(df['Nationality']=='Indian') & (df['Gender']=='Female') & (df['Dessert']=='No')].shape[0]"
   ]
  },
  {
   "cell_type": "code",
   "execution_count": 70,
   "id": "0b5271ad",
   "metadata": {},
   "outputs": [
    {
     "data": {
      "text/plain": [
       "66"
      ]
     },
     "execution_count": 70,
     "metadata": {},
     "output_type": "execute_result"
    }
   ],
   "source": [
    "# Нахожу частоты ответа Maybe в колонке Dessert, препочитаемые индусами-женщинами\n",
    "df[(df['Nationality']=='Indian') & (df['Gender']=='Female') & (df['Dessert']=='Maybe')].shape[0]"
   ]
  },
  {
   "cell_type": "code",
   "execution_count": 71,
   "id": "5ec7207c",
   "metadata": {},
   "outputs": [
    {
     "data": {
      "text/html": [
       "<div>\n",
       "<style scoped>\n",
       "    .dataframe tbody tr th:only-of-type {\n",
       "        vertical-align: middle;\n",
       "    }\n",
       "\n",
       "    .dataframe tbody tr th {\n",
       "        vertical-align: top;\n",
       "    }\n",
       "\n",
       "    .dataframe thead th {\n",
       "        text-align: right;\n",
       "    }\n",
       "</style>\n",
       "<table border=\"1\" class=\"dataframe\">\n",
       "  <thead>\n",
       "    <tr style=\"text-align: right;\">\n",
       "      <th></th>\n",
       "      <th>Yes</th>\n",
       "      <th>No</th>\n",
       "      <th>Maybe</th>\n",
       "    </tr>\n",
       "  </thead>\n",
       "  <tbody>\n",
       "    <tr>\n",
       "      <th>Men</th>\n",
       "      <td>39</td>\n",
       "      <td>13</td>\n",
       "      <td>37</td>\n",
       "    </tr>\n",
       "    <tr>\n",
       "      <th>Women</th>\n",
       "      <td>49</td>\n",
       "      <td>34</td>\n",
       "      <td>66</td>\n",
       "    </tr>\n",
       "  </tbody>\n",
       "</table>\n",
       "</div>"
      ],
      "text/plain": [
       "       Yes  No  Maybe\n",
       "Men     39  13     37\n",
       "Women   49  34     66"
      ]
     },
     "execution_count": 71,
     "metadata": {},
     "output_type": "execute_result"
    }
   ],
   "source": [
    "# Создаю частотную таблицу\n",
    "b = pd.DataFrame()\n",
    "b.index = [\"Men\", \"Women\"]\n",
    "b['Yes']=[39, 49]\n",
    "b['No']=[13, 34]\n",
    "b['Maybe']=[37, 66]\n",
    "b"
   ]
  },
  {
   "cell_type": "code",
   "execution_count": 72,
   "id": "b3e34fe0",
   "metadata": {},
   "outputs": [
    {
     "data": {
      "text/plain": [
       "(3.7998385931571983,\n",
       " 0.14958069040902697,\n",
       " 2,\n",
       " array([[32.90756303, 17.57563025, 38.51680672],\n",
       "        [55.09243697, 29.42436975, 64.48319328]]))"
      ]
     },
     "execution_count": 72,
     "metadata": {},
     "output_type": "execute_result"
    }
   ],
   "source": [
    "result = stats.chi2_contingency(b, correction=False)\n",
    "result"
   ]
  },
  {
   "cell_type": "code",
   "execution_count": null,
   "id": "8c4a9e0a",
   "metadata": {},
   "outputs": [],
   "source": [
    "# посмотрела в таблице критическое значение на уровне значимости 0,05 и ddof = (2-1)*(3-1) = 2\n",
    "critical_value = 5.99\n",
    "\n",
    "# статистика Хи квадрат входит в критическую область, соответственно, опровергаем нулевую зависимость об отсутствии взаимосвязи между признаками пол и ответ на вопрос \"любите ли вы десерт\"\n",
    "# Ответ: различия в предпочтениях в дессертах у мужчин и женщин - индийцев имеются и эти различия обусловлены зависимостью между признаками пол и ответ на вопрос \"любите ли вы десерт\""
   ]
  },
  {
   "cell_type": "code",
   "execution_count": null,
   "id": "34ec968a",
   "metadata": {},
   "outputs": [],
   "source": []
  },
  {
   "cell_type": "code",
   "execution_count": null,
   "id": "d17d76c9",
   "metadata": {},
   "outputs": [],
   "source": []
  }
 ],
 "metadata": {
  "kernelspec": {
   "display_name": "Python 3 (ipykernel)",
   "language": "python",
   "name": "python3"
  },
  "language_info": {
   "codemirror_mode": {
    "name": "ipython",
    "version": 3
   },
   "file_extension": ".py",
   "mimetype": "text/x-python",
   "name": "python",
   "nbconvert_exporter": "python",
   "pygments_lexer": "ipython3",
   "version": "3.9.13"
  }
 },
 "nbformat": 4,
 "nbformat_minor": 5
}
